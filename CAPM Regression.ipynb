{
 "cells": [
  {
   "cell_type": "markdown",
   "id": "fc5826eb",
   "metadata": {},
   "source": [
    "# Capital Asset Pricing Model"
   ]
  },
  {
   "cell_type": "markdown",
   "id": "da024c85",
   "metadata": {},
   "source": [
    "Understanding CAPM through linear regression approach, then it is just different format\n",
    "\n",
    "In linear regression:\n",
    "y = b + b1(x) + e\n",
    "- y is dependent value\n",
    "- b is the y intercept\n",
    "- b1 is the slope. (from the perspective of graph, from the perspective of formula, it is b1, from practical meaning, it is when the IV change 1 unit, then the DV will change b1 unit)\n",
    "- x is the independent value, also the predictor\n",
    "- e is the error terms\n",
    "\n",
    "In CAPM terms:\n",
    "return of asseti = aplha + beta(market return) + error term\n",
    "- alpha is the y intercept\n",
    "- beta is the slope\n",
    "- market return is the benchmark, can choose disecrete index\n",
    "\n",
    "Generally, beta info in Yahoo Finance doesnt consider the risk-free rate, if consider, it would be:\n",
    "return of asseti - rf = aplha + beta(market return-rf) + error term"
   ]
  },
  {
   "cell_type": "markdown",
   "id": "511fef6d",
   "metadata": {},
   "source": [
    "Definition of Beta:\n",
    "\n",
    "- b1=covariance(asseti return, market return)/variance of market return\n",
    "\n",
    "- 0<beta<1, assets move in the same direction, lesser amount\n",
    "\n",
    "- -1<beta<0, move in oppositie direction, lesser amount\n",
    "\n",
    "- Reference of Cov, and Var: https://www.probabilitycourse.com/chapter5/5_3_1_covariance_correlation.php"
   ]
  },
  {
   "cell_type": "markdown",
   "id": "a70b4652",
   "metadata": {},
   "source": [
    "Interpreting the result of Linear Regreassion using OLS Summary:\n",
    "https://www.geeksforgeeks.org/interpreting-the-results-of-linear-regression-using-ols-summary/"
   ]
  },
  {
   "cell_type": "markdown",
   "id": "fcad4c89",
   "metadata": {},
   "source": [
    "# Code"
   ]
  },
  {
   "cell_type": "code",
   "execution_count": 1,
   "id": "64311d78",
   "metadata": {},
   "outputs": [],
   "source": [
    "import pandas_datareader.data as reader\n",
    "import datetime as dt\n",
    "import matplotlib.pyplot as plt\n",
    "import statsmodels.api as sm"
   ]
  },
  {
   "cell_type": "markdown",
   "id": "162777d8",
   "metadata": {},
   "source": [
    "### Set up targeted assets and periods"
   ]
  },
  {
   "cell_type": "code",
   "execution_count": 1,
   "id": "520dea68",
   "metadata": {},
   "outputs": [
    {
     "ename": "NameError",
     "evalue": "name 'dt' is not defined",
     "output_type": "error",
     "traceback": [
      "\u001b[0;31m---------------------------------------------------------------------------\u001b[0m",
      "\u001b[0;31mNameError\u001b[0m                                 Traceback (most recent call last)",
      "\u001b[0;32m/var/folders/k_/vmjhvly97_l76rzmgyz1z22m0000gn/T/ipykernel_9367/179988651.py\u001b[0m in \u001b[0;36m<module>\u001b[0;34m\u001b[0m\n\u001b[0;32m----> 1\u001b[0;31m \u001b[0mend\u001b[0m \u001b[0;34m=\u001b[0m \u001b[0mdt\u001b[0m\u001b[0;34m.\u001b[0m\u001b[0mdatetime\u001b[0m\u001b[0;34m.\u001b[0m\u001b[0mnow\u001b[0m\u001b[0;34m(\u001b[0m\u001b[0;34m)\u001b[0m\u001b[0;34m\u001b[0m\u001b[0;34m\u001b[0m\u001b[0m\n\u001b[0m\u001b[1;32m      2\u001b[0m \u001b[0;31m# just step back 5 years from now, month and day dont change\u001b[0m\u001b[0;34m\u001b[0m\u001b[0;34m\u001b[0m\u001b[0m\n\u001b[1;32m      3\u001b[0m \u001b[0mstart\u001b[0m \u001b[0;34m=\u001b[0m \u001b[0mdt\u001b[0m\u001b[0;34m.\u001b[0m\u001b[0mdatetime\u001b[0m\u001b[0;34m(\u001b[0m\u001b[0mend\u001b[0m\u001b[0;34m.\u001b[0m\u001b[0myear\u001b[0m \u001b[0;34m-\u001b[0m \u001b[0;36m5\u001b[0m\u001b[0;34m,\u001b[0m \u001b[0mend\u001b[0m\u001b[0;34m.\u001b[0m\u001b[0mmonth\u001b[0m\u001b[0;34m,\u001b[0m \u001b[0mend\u001b[0m\u001b[0;34m.\u001b[0m\u001b[0mday\u001b[0m\u001b[0;34m)\u001b[0m\u001b[0;34m\u001b[0m\u001b[0;34m\u001b[0m\u001b[0m\n\u001b[1;32m      4\u001b[0m \u001b[0;31m# ^GSPC is S&P 500\u001b[0m\u001b[0;34m\u001b[0m\u001b[0;34m\u001b[0m\u001b[0m\n\u001b[1;32m      5\u001b[0m \u001b[0mtickers\u001b[0m \u001b[0;34m=\u001b[0m \u001b[0;34m[\u001b[0m\u001b[0;34m'MSFT'\u001b[0m\u001b[0;34m,\u001b[0m\u001b[0;34m'^GSPC'\u001b[0m\u001b[0;34m]\u001b[0m\u001b[0;34m\u001b[0m\u001b[0;34m\u001b[0m\u001b[0m\n",
      "\u001b[0;31mNameError\u001b[0m: name 'dt' is not defined"
     ]
    }
   ],
   "source": [
    "end = dt.datetime.now()\n",
    "# just step back 5 years from now, month and day dont change\n",
    "start = dt.datetime(end.year - 5, end.month, end.day)\n",
    "# ^GSPC is S&P 500\n",
    "tickers = ['MSFT','^GSPC']"
   ]
  },
  {
   "cell_type": "code",
   "execution_count": 32,
   "id": "7cee3471",
   "metadata": {},
   "outputs": [
    {
     "data": {
      "text/html": [
       "<div>\n",
       "<style scoped>\n",
       "    .dataframe tbody tr th:only-of-type {\n",
       "        vertical-align: middle;\n",
       "    }\n",
       "\n",
       "    .dataframe tbody tr th {\n",
       "        vertical-align: top;\n",
       "    }\n",
       "\n",
       "    .dataframe thead th {\n",
       "        text-align: right;\n",
       "    }\n",
       "</style>\n",
       "<table border=\"1\" class=\"dataframe\">\n",
       "  <thead>\n",
       "    <tr style=\"text-align: right;\">\n",
       "      <th>Symbols</th>\n",
       "      <th>MSFT</th>\n",
       "      <th>^GSPC</th>\n",
       "    </tr>\n",
       "    <tr>\n",
       "      <th>Date</th>\n",
       "      <th></th>\n",
       "      <th></th>\n",
       "    </tr>\n",
       "  </thead>\n",
       "  <tbody>\n",
       "    <tr>\n",
       "      <th>2017-09-28</th>\n",
       "      <td>69.559273</td>\n",
       "      <td>2510.060059</td>\n",
       "    </tr>\n",
       "    <tr>\n",
       "      <th>2017-09-29</th>\n",
       "      <td>70.143074</td>\n",
       "      <td>2519.360107</td>\n",
       "    </tr>\n",
       "    <tr>\n",
       "      <th>2017-10-02</th>\n",
       "      <td>70.256073</td>\n",
       "      <td>2529.120117</td>\n",
       "    </tr>\n",
       "    <tr>\n",
       "      <th>2017-10-03</th>\n",
       "      <td>69.926506</td>\n",
       "      <td>2534.580078</td>\n",
       "    </tr>\n",
       "    <tr>\n",
       "      <th>2017-10-04</th>\n",
       "      <td>70.331406</td>\n",
       "      <td>2537.739990</td>\n",
       "    </tr>\n",
       "  </tbody>\n",
       "</table>\n",
       "</div>"
      ],
      "text/plain": [
       "Symbols          MSFT        ^GSPC\n",
       "Date                              \n",
       "2017-09-28  69.559273  2510.060059\n",
       "2017-09-29  70.143074  2519.360107\n",
       "2017-10-02  70.256073  2529.120117\n",
       "2017-10-03  69.926506  2534.580078\n",
       "2017-10-04  70.331406  2537.739990"
      ]
     },
     "execution_count": 32,
     "metadata": {},
     "output_type": "execute_result"
    }
   ],
   "source": [
    "df = reader.get_data_yahoo(tickers, start, end)['Adj Close']\n",
    "df.iloc[40:45,:]"
   ]
  },
  {
   "cell_type": "markdown",
   "id": "606159b7",
   "metadata": {},
   "source": [
    "### Converting daily return to monthly return"
   ]
  },
  {
   "cell_type": "code",
   "execution_count": 34,
   "id": "db400a12",
   "metadata": {},
   "outputs": [
    {
     "data": {
      "text/html": [
       "<div>\n",
       "<style scoped>\n",
       "    .dataframe tbody tr th:only-of-type {\n",
       "        vertical-align: middle;\n",
       "    }\n",
       "\n",
       "    .dataframe tbody tr th {\n",
       "        vertical-align: top;\n",
       "    }\n",
       "\n",
       "    .dataframe thead th {\n",
       "        text-align: right;\n",
       "    }\n",
       "</style>\n",
       "<table border=\"1\" class=\"dataframe\">\n",
       "  <thead>\n",
       "    <tr style=\"text-align: right;\">\n",
       "      <th>Symbols</th>\n",
       "      <th>MSFT</th>\n",
       "      <th>^GSPC</th>\n",
       "    </tr>\n",
       "    <tr>\n",
       "      <th>Date</th>\n",
       "      <th></th>\n",
       "      <th></th>\n",
       "    </tr>\n",
       "  </thead>\n",
       "  <tbody>\n",
       "    <tr>\n",
       "      <th>2017-09-30</th>\n",
       "      <td>-0.002140</td>\n",
       "      <td>0.023252</td>\n",
       "    </tr>\n",
       "    <tr>\n",
       "      <th>2017-10-31</th>\n",
       "      <td>0.114864</td>\n",
       "      <td>0.018243</td>\n",
       "    </tr>\n",
       "    <tr>\n",
       "      <th>2017-11-30</th>\n",
       "      <td>0.016984</td>\n",
       "      <td>0.028083</td>\n",
       "    </tr>\n",
       "    <tr>\n",
       "      <th>2017-12-31</th>\n",
       "      <td>0.021148</td>\n",
       "      <td>0.018217</td>\n",
       "    </tr>\n",
       "    <tr>\n",
       "      <th>2018-01-31</th>\n",
       "      <td>0.105410</td>\n",
       "      <td>0.047481</td>\n",
       "    </tr>\n",
       "  </tbody>\n",
       "</table>\n",
       "</div>"
      ],
      "text/plain": [
       "Symbols         MSFT     ^GSPC\n",
       "Date                          \n",
       "2017-09-30 -0.002140  0.023252\n",
       "2017-10-31  0.114864  0.018243\n",
       "2017-11-30  0.016984  0.028083\n",
       "2017-12-31  0.021148  0.018217\n",
       "2018-01-31  0.105410  0.047481"
      ]
     },
     "execution_count": 34,
     "metadata": {},
     "output_type": "execute_result"
    }
   ],
   "source": [
    "# when doing resample, must consider conditions that resampled date might has no value\n",
    "# need to assign a method to fill them\n",
    "# explain the difference of ffill and bfill here\n",
    "# since there is no daily data of 2017-09-30\n",
    "# if use ffill, we will fill this date with the previous date data,\n",
    "# which is the 2017-09-29 data\n",
    "# if use bfill, we use date after 09-30 to fill it,\n",
    "# which is the 2017-10-02\n",
    "mly_ret = df.resample('M').bfill().pct_change().dropna()\n",
    "mly_ret.head()"
   ]
  },
  {
   "cell_type": "markdown",
   "id": "0446e349",
   "metadata": {},
   "source": [
    "### Building the regression model\n",
    "- stats module has no constant as default\n",
    "- users need to add one on their own\n",
    "- OLS stands for ordinary least squares, which is an approach to get a min SSE, max SSR, so the regression line has the biggest explanatory power of the dependent variable"
   ]
  },
  {
   "cell_type": "code",
   "execution_count": 37,
   "id": "3ae0a452",
   "metadata": {},
   "outputs": [
    {
     "name": "stderr",
     "output_type": "stream",
     "text": [
      "/Users/jktrading/opt/anaconda3/lib/python3.9/site-packages/statsmodels/tsa/tsatools.py:142: FutureWarning: In a future version of pandas all arguments of concat except for the argument 'objs' will be keyword-only\n",
      "  x = pd.concat(x[::order], 1)\n"
     ]
    }
   ],
   "source": [
    "y = mly_ret['MSFT'] \n",
    "# this x has no constant, need to add one before feeding to the model\n",
    "x = mly_ret['^GSPC']\n",
    "# add a constant to the independent variable by stats model\n",
    "x_sm = sm.add_constant(x)"
   ]
  },
  {
   "cell_type": "code",
   "execution_count": 39,
   "id": "640161e8",
   "metadata": {},
   "outputs": [
    {
     "data": {
      "text/plain": [
       "<statsmodels.regression.linear_model.OLS at 0x7f88c2630790>"
      ]
     },
     "execution_count": 39,
     "metadata": {},
     "output_type": "execute_result"
    }
   ],
   "source": [
    "model = sm.OLS(y,x_sm)\n",
    "model"
   ]
  },
  {
   "cell_type": "code",
   "execution_count": 41,
   "id": "af65a881",
   "metadata": {},
   "outputs": [
    {
     "data": {
      "text/html": [
       "<table class=\"simpletable\">\n",
       "<caption>OLS Regression Results</caption>\n",
       "<tr>\n",
       "  <th>Dep. Variable:</th>          <td>MSFT</td>       <th>  R-squared:         </th> <td>   0.625</td>\n",
       "</tr>\n",
       "<tr>\n",
       "  <th>Model:</th>                   <td>OLS</td>       <th>  Adj. R-squared:    </th> <td>   0.618</td>\n",
       "</tr>\n",
       "<tr>\n",
       "  <th>Method:</th>             <td>Least Squares</td>  <th>  F-statistic:       </th> <td>   96.57</td>\n",
       "</tr>\n",
       "<tr>\n",
       "  <th>Date:</th>             <td>Wed, 03 Aug 2022</td> <th>  Prob (F-statistic):</th> <td>5.90e-14</td>\n",
       "</tr>\n",
       "<tr>\n",
       "  <th>Time:</th>                 <td>20:48:05</td>     <th>  Log-Likelihood:    </th> <td>  113.44</td>\n",
       "</tr>\n",
       "<tr>\n",
       "  <th>No. Observations:</th>      <td>    60</td>      <th>  AIC:               </th> <td>  -222.9</td>\n",
       "</tr>\n",
       "<tr>\n",
       "  <th>Df Residuals:</th>          <td>    58</td>      <th>  BIC:               </th> <td>  -218.7</td>\n",
       "</tr>\n",
       "<tr>\n",
       "  <th>Df Model:</th>              <td>     1</td>      <th>                     </th>     <td> </td>   \n",
       "</tr>\n",
       "<tr>\n",
       "  <th>Covariance Type:</th>      <td>nonrobust</td>    <th>                     </th>     <td> </td>   \n",
       "</tr>\n",
       "</table>\n",
       "<table class=\"simpletable\">\n",
       "<tr>\n",
       "    <td></td>       <th>coef</th>     <th>std err</th>      <th>t</th>      <th>P>|t|</th>  <th>[0.025</th>    <th>0.975]</th>  \n",
       "</tr>\n",
       "<tr>\n",
       "  <th>const</th> <td>    0.0157</td> <td>    0.005</td> <td>    3.207</td> <td> 0.002</td> <td>    0.006</td> <td>    0.025</td>\n",
       "</tr>\n",
       "<tr>\n",
       "  <th>^GSPC</th> <td>    0.9374</td> <td>    0.095</td> <td>    9.827</td> <td> 0.000</td> <td>    0.746</td> <td>    1.128</td>\n",
       "</tr>\n",
       "</table>\n",
       "<table class=\"simpletable\">\n",
       "<tr>\n",
       "  <th>Omnibus:</th>       <td> 2.949</td> <th>  Durbin-Watson:     </th> <td>   2.244</td>\n",
       "</tr>\n",
       "<tr>\n",
       "  <th>Prob(Omnibus):</th> <td> 0.229</td> <th>  Jarque-Bera (JB):  </th> <td>   2.842</td>\n",
       "</tr>\n",
       "<tr>\n",
       "  <th>Skew:</th>          <td> 0.512</td> <th>  Prob(JB):          </th> <td>   0.241</td>\n",
       "</tr>\n",
       "<tr>\n",
       "  <th>Kurtosis:</th>      <td> 2.701</td> <th>  Cond. No.          </th> <td>    19.9</td>\n",
       "</tr>\n",
       "</table><br/><br/>Notes:<br/>[1] Standard Errors assume that the covariance matrix of the errors is correctly specified."
      ],
      "text/plain": [
       "<class 'statsmodels.iolib.summary.Summary'>\n",
       "\"\"\"\n",
       "                            OLS Regression Results                            \n",
       "==============================================================================\n",
       "Dep. Variable:                   MSFT   R-squared:                       0.625\n",
       "Model:                            OLS   Adj. R-squared:                  0.618\n",
       "Method:                 Least Squares   F-statistic:                     96.57\n",
       "Date:                Wed, 03 Aug 2022   Prob (F-statistic):           5.90e-14\n",
       "Time:                        20:48:05   Log-Likelihood:                 113.44\n",
       "No. Observations:                  60   AIC:                            -222.9\n",
       "Df Residuals:                      58   BIC:                            -218.7\n",
       "Df Model:                           1                                         \n",
       "Covariance Type:            nonrobust                                         \n",
       "==============================================================================\n",
       "                 coef    std err          t      P>|t|      [0.025      0.975]\n",
       "------------------------------------------------------------------------------\n",
       "const          0.0157      0.005      3.207      0.002       0.006       0.025\n",
       "^GSPC          0.9374      0.095      9.827      0.000       0.746       1.128\n",
       "==============================================================================\n",
       "Omnibus:                        2.949   Durbin-Watson:                   2.244\n",
       "Prob(Omnibus):                  0.229   Jarque-Bera (JB):                2.842\n",
       "Skew:                           0.512   Prob(JB):                        0.241\n",
       "Kurtosis:                       2.701   Cond. No.                         19.9\n",
       "==============================================================================\n",
       "\n",
       "Notes:\n",
       "[1] Standard Errors assume that the covariance matrix of the errors is correctly specified.\n",
       "\"\"\""
      ]
     },
     "execution_count": 41,
     "metadata": {},
     "output_type": "execute_result"
    }
   ],
   "source": [
    "# once we have the model set up, we need to fit it, otherwise\n",
    "# the model object is just a container of the dependent and independent variable\n",
    "result = model.fit()\n",
    "result.summary()"
   ]
  },
  {
   "cell_type": "markdown",
   "id": "288d704e",
   "metadata": {},
   "source": [
    "beta is the coef of the independent variable, which is the ^GSPC in this case\n",
    "alpha is the coef of the constant\n",
    "- pay attention to the range of the coef, it is an estimate of the mean coef\n",
    "- the linear relation of x and y is changing"
   ]
  },
  {
   "cell_type": "markdown",
   "id": "09279e0b",
   "metadata": {},
   "source": [
    "### Visulize the linear relationship of x and y"
   ]
  },
  {
   "cell_type": "code",
   "execution_count": 42,
   "id": "27758f5e",
   "metadata": {},
   "outputs": [],
   "source": [
    "import seaborn as sns"
   ]
  },
  {
   "cell_type": "code",
   "execution_count": 43,
   "id": "7d14f36d",
   "metadata": {},
   "outputs": [
    {
     "data": {
      "text/plain": [
       "<AxesSubplot:xlabel='^GSPC', ylabel='MSFT'>"
      ]
     },
     "execution_count": 43,
     "metadata": {},
     "output_type": "execute_result"
    },
    {
     "data": {
      "image/png": "[encoded data removed]",
      "text/plain": [
       "<Figure size 432x288 with 1 Axes>"
      ]
     },
     "metadata": {
      "needs_background": "light"
     },
     "output_type": "display_data"
    }
   ],
   "source": [
    "sns.regplot(x='^GSPC', y='MSFT', data=mly_ret)\n",
    "# the line is our predicted value, accuracy only 60% as the adjusted r^2\n",
    "# like when x change 5%, we predict y will change 5% too\n",
    "# while there is a distribution of the y value at x = 0.05\n",
    "# the line is the mean, the observed value is higher or lower than that"
   ]
  },
  {
   "cell_type": "markdown",
   "id": "15c60d37",
   "metadata": {},
   "source": [
    "### Considering the risk-free rate\n",
    "- famaFrench, this guy doesnt update rf data monthly\n",
    "- our mly_ret has 60 rows of data, rf only has 58, doesnt match, cannot do the operation to cal the excess ret\n",
    "- so we create a series to append to the rf df to fit the size\n",
    "- reference: https://www.tutorialspoint.com/python-pandas-create-a-periodindex-and-set-frequency"
   ]
  },
  {
   "cell_type": "code",
   "execution_count": 56,
   "id": "bd90faeb",
   "metadata": {},
   "outputs": [],
   "source": [
    "import pandas as pd"
   ]
  },
  {
   "cell_type": "code",
   "execution_count": 81,
   "id": "62e11a97",
   "metadata": {},
   "outputs": [
    {
     "data": {
      "text/plain": [
       "Date\n",
       "2022-02    0.00\n",
       "2022-03    0.01\n",
       "2022-04    0.01\n",
       "2022-05    0.03\n",
       "2022-06    0.06\n",
       "Freq: M, Name: RF, dtype: float64"
      ]
     },
     "execution_count": 81,
     "metadata": {},
     "output_type": "execute_result"
    }
   ],
   "source": [
    "rf = reader.DataReader('F-F_Research_Data_Factors','famafrench',start, end)[0].RF\n",
    "# we dont need August\n",
    "rf = rf[1:]\n",
    "# only goes to June 2022, need to add 2 rows of data to match the size with mnly_ret\n",
    "rf.tail()"
   ]
  },
  {
   "cell_type": "code",
   "execution_count": 82,
   "id": "e937c88e",
   "metadata": {},
   "outputs": [
    {
     "data": {
      "text/plain": [
       "2022-04    0.01\n",
       "2022-05    0.03\n",
       "2022-06    0.06\n",
       "2022-07    0.07\n",
       "2022-08    0.08\n",
       "Freq: M, dtype: float64"
      ]
     },
     "execution_count": 82,
     "metadata": {},
     "output_type": "execute_result"
    }
   ],
   "source": [
    "# not sure what benchmakr French is using for the rf\n",
    "# I refer to the 3 months T-bill\n",
    "# the numbers are different, but the trend is increasing\n",
    "# so I assumed that they are increasing\n",
    "supplement = pd.PeriodIndex(['2022-07','2022-08'],freq='M')\n",
    "sup1 = pd.Series([0.07,0.08], index=supplement)\n",
    "rf = rf.append(sup1)\n",
    "rf.tail()"
   ]
  },
  {
   "cell_type": "markdown",
   "id": "697f9d48",
   "metadata": {},
   "source": [
    "### Subtract rf to get excess return"
   ]
  },
  {
   "cell_type": "code",
   "execution_count": 84,
   "id": "339eab85",
   "metadata": {},
   "outputs": [
    {
     "data": {
      "text/html": [
       "<div>\n",
       "<style scoped>\n",
       "    .dataframe tbody tr th:only-of-type {\n",
       "        vertical-align: middle;\n",
       "    }\n",
       "\n",
       "    .dataframe tbody tr th {\n",
       "        vertical-align: top;\n",
       "    }\n",
       "\n",
       "    .dataframe thead th {\n",
       "        text-align: right;\n",
       "    }\n",
       "</style>\n",
       "<table border=\"1\" class=\"dataframe\">\n",
       "  <thead>\n",
       "    <tr style=\"text-align: right;\">\n",
       "      <th>Symbols</th>\n",
       "      <th>MSFT</th>\n",
       "      <th>^GSPC</th>\n",
       "      <th>MSFT-rf</th>\n",
       "      <th>^GSPC-rf</th>\n",
       "    </tr>\n",
       "    <tr>\n",
       "      <th>Date</th>\n",
       "      <th></th>\n",
       "      <th></th>\n",
       "      <th></th>\n",
       "      <th></th>\n",
       "    </tr>\n",
       "  </thead>\n",
       "  <tbody>\n",
       "    <tr>\n",
       "      <th>2017-09-30</th>\n",
       "      <td>-0.002140</td>\n",
       "      <td>0.023252</td>\n",
       "      <td>-0.092140</td>\n",
       "      <td>-0.066748</td>\n",
       "    </tr>\n",
       "    <tr>\n",
       "      <th>2017-10-31</th>\n",
       "      <td>0.114864</td>\n",
       "      <td>0.018243</td>\n",
       "      <td>0.024864</td>\n",
       "      <td>-0.071757</td>\n",
       "    </tr>\n",
       "    <tr>\n",
       "      <th>2017-11-30</th>\n",
       "      <td>0.016984</td>\n",
       "      <td>0.028083</td>\n",
       "      <td>-0.063016</td>\n",
       "      <td>-0.051917</td>\n",
       "    </tr>\n",
       "    <tr>\n",
       "      <th>2017-12-31</th>\n",
       "      <td>0.021148</td>\n",
       "      <td>0.018217</td>\n",
       "      <td>-0.068852</td>\n",
       "      <td>-0.071783</td>\n",
       "    </tr>\n",
       "    <tr>\n",
       "      <th>2018-01-31</th>\n",
       "      <td>0.105410</td>\n",
       "      <td>0.047481</td>\n",
       "      <td>-0.014590</td>\n",
       "      <td>-0.072519</td>\n",
       "    </tr>\n",
       "  </tbody>\n",
       "</table>\n",
       "</div>"
      ],
      "text/plain": [
       "Symbols         MSFT     ^GSPC   MSFT-rf  ^GSPC-rf\n",
       "Date                                              \n",
       "2017-09-30 -0.002140  0.023252 -0.092140 -0.066748\n",
       "2017-10-31  0.114864  0.018243  0.024864 -0.071757\n",
       "2017-11-30  0.016984  0.028083 -0.063016 -0.051917\n",
       "2017-12-31  0.021148  0.018217 -0.068852 -0.071783\n",
       "2018-01-31  0.105410  0.047481 -0.014590 -0.072519"
      ]
     },
     "execution_count": 84,
     "metadata": {},
     "output_type": "execute_result"
    }
   ],
   "source": [
    "# create new cols in the mly_ret df\n",
    "mly_ret['MSFT-rf'], mly_ret['^GSPC-rf'] = mly_ret['MSFT']-rf.values, mly_ret['^GSPC']-rf.values\n",
    "mly_ret.head()"
   ]
  },
  {
   "cell_type": "code",
   "execution_count": 85,
   "id": "8cc0b27f",
   "metadata": {},
   "outputs": [
    {
     "name": "stderr",
     "output_type": "stream",
     "text": [
      "/Users/jktrading/opt/anaconda3/lib/python3.9/site-packages/statsmodels/tsa/tsatools.py:142: FutureWarning: In a future version of pandas all arguments of concat except for the argument 'objs' will be keyword-only\n",
      "  x = pd.concat(x[::order], 1)\n"
     ]
    }
   ],
   "source": [
    "y = mly_ret['MSFT-rf']\n",
    "x = mly_ret['^GSPC-rf']\n",
    "\n",
    "x_sm = sm.add_constant(x)"
   ]
  },
  {
   "cell_type": "code",
   "execution_count": 89,
   "id": "64e24d79",
   "metadata": {},
   "outputs": [
    {
     "data": {
      "text/html": [
       "<table class=\"simpletable\">\n",
       "<caption>OLS Regression Results</caption>\n",
       "<tr>\n",
       "  <th>Dep. Variable:</th>         <td>MSFT-rf</td>     <th>  R-squared:         </th> <td>   0.860</td>\n",
       "</tr>\n",
       "<tr>\n",
       "  <th>Model:</th>                   <td>OLS</td>       <th>  Adj. R-squared:    </th> <td>   0.858</td>\n",
       "</tr>\n",
       "<tr>\n",
       "  <th>Method:</th>             <td>Least Squares</td>  <th>  F-statistic:       </th> <td>   357.4</td>\n",
       "</tr>\n",
       "<tr>\n",
       "  <th>Date:</th>             <td>Wed, 03 Aug 2022</td> <th>  Prob (F-statistic):</th> <td>1.79e-26</td>\n",
       "</tr>\n",
       "<tr>\n",
       "  <th>Time:</th>                 <td>21:54:18</td>     <th>  Log-Likelihood:    </th> <td>  114.42</td>\n",
       "</tr>\n",
       "<tr>\n",
       "  <th>No. Observations:</th>      <td>    60</td>      <th>  AIC:               </th> <td>  -224.8</td>\n",
       "</tr>\n",
       "<tr>\n",
       "  <th>Df Residuals:</th>          <td>    58</td>      <th>  BIC:               </th> <td>  -220.7</td>\n",
       "</tr>\n",
       "<tr>\n",
       "  <th>Df Model:</th>              <td>     1</td>      <th>                     </th>     <td> </td>   \n",
       "</tr>\n",
       "<tr>\n",
       "  <th>Covariance Type:</th>      <td>nonrobust</td>    <th>                     </th>     <td> </td>   \n",
       "</tr>\n",
       "</table>\n",
       "<table class=\"simpletable\">\n",
       "<tr>\n",
       "      <td></td>        <th>coef</th>     <th>std err</th>      <th>t</th>      <th>P>|t|</th>  <th>[0.025</th>    <th>0.975]</th>  \n",
       "</tr>\n",
       "<tr>\n",
       "  <th>const</th>    <td>    0.0095</td> <td>    0.006</td> <td>    1.598</td> <td> 0.116</td> <td>   -0.002</td> <td>    0.021</td>\n",
       "</tr>\n",
       "<tr>\n",
       "  <th>^GSPC-rf</th> <td>    0.9246</td> <td>    0.049</td> <td>   18.905</td> <td> 0.000</td> <td>    0.827</td> <td>    1.022</td>\n",
       "</tr>\n",
       "</table>\n",
       "<table class=\"simpletable\">\n",
       "<tr>\n",
       "  <th>Omnibus:</th>       <td> 5.297</td> <th>  Durbin-Watson:     </th> <td>   2.315</td>\n",
       "</tr>\n",
       "<tr>\n",
       "  <th>Prob(Omnibus):</th> <td> 0.071</td> <th>  Jarque-Bera (JB):  </th> <td>   4.788</td>\n",
       "</tr>\n",
       "<tr>\n",
       "  <th>Skew:</th>          <td> 0.690</td> <th>  Prob(JB):          </th> <td>  0.0913</td>\n",
       "</tr>\n",
       "<tr>\n",
       "  <th>Kurtosis:</th>      <td> 3.100</td> <th>  Cond. No.          </th> <td>    10.4</td>\n",
       "</tr>\n",
       "</table><br/><br/>Notes:<br/>[1] Standard Errors assume that the covariance matrix of the errors is correctly specified."
      ],
      "text/plain": [
       "<class 'statsmodels.iolib.summary.Summary'>\n",
       "\"\"\"\n",
       "                            OLS Regression Results                            \n",
       "==============================================================================\n",
       "Dep. Variable:                MSFT-rf   R-squared:                       0.860\n",
       "Model:                            OLS   Adj. R-squared:                  0.858\n",
       "Method:                 Least Squares   F-statistic:                     357.4\n",
       "Date:                Wed, 03 Aug 2022   Prob (F-statistic):           1.79e-26\n",
       "Time:                        21:54:18   Log-Likelihood:                 114.42\n",
       "No. Observations:                  60   AIC:                            -224.8\n",
       "Df Residuals:                      58   BIC:                            -220.7\n",
       "Df Model:                           1                                         \n",
       "Covariance Type:            nonrobust                                         \n",
       "==============================================================================\n",
       "                 coef    std err          t      P>|t|      [0.025      0.975]\n",
       "------------------------------------------------------------------------------\n",
       "const          0.0095      0.006      1.598      0.116      -0.002       0.021\n",
       "^GSPC-rf       0.9246      0.049     18.905      0.000       0.827       1.022\n",
       "==============================================================================\n",
       "Omnibus:                        5.297   Durbin-Watson:                   2.315\n",
       "Prob(Omnibus):                  0.071   Jarque-Bera (JB):                4.788\n",
       "Skew:                           0.690   Prob(JB):                       0.0913\n",
       "Kurtosis:                       3.100   Cond. No.                         10.4\n",
       "==============================================================================\n",
       "\n",
       "Notes:\n",
       "[1] Standard Errors assume that the covariance matrix of the errors is correctly specified.\n",
       "\"\"\""
      ]
     },
     "execution_count": 89,
     "metadata": {},
     "output_type": "execute_result"
    }
   ],
   "source": [
    "model = sm.OLS(y,x_sm)\n",
    "result = model.fit()\n",
    "result.summary()\n",
    "# adjusted r^2 increased from 60 to 80 after deducting the rf\n",
    "# why?"
   ]
  },
  {
   "cell_type": "code",
   "execution_count": 90,
   "id": "737163c2",
   "metadata": {},
   "outputs": [
    {
     "data": {
      "text/plain": [
       "<AxesSubplot:xlabel='^GSPC-rf', ylabel='MSFT-rf'>"
      ]
     },
     "execution_count": 90,
     "metadata": {},
     "output_type": "execute_result"
    },
    {
     "data": {
      "image/png": "[encoded data removed]",
      "text/plain": [
       "<Figure size 432x288 with 1 Axes>"
      ]
     },
     "metadata": {
      "needs_background": "light"
     },
     "output_type": "display_data"
    }
   ],
   "source": [
    "sns.regplot(data=mly_ret, x='^GSPC-rf', y='MSFT-rf')"
   ]
  },
  {
   "cell_type": "markdown",
   "id": "f9dbb2f6",
   "metadata": {},
   "source": [
    "### Statistical Concept Revision\n",
    "- they are various ways to evaluate a regression model\n",
    "- for evaluating a single model, we are looking for whether the model is statistically support there is a signgicant linear relationship between the DV and IV \n",
    "- most of them are for comaprison, so if just one sample, some of them are meaningless\n",
    "- to claim statistical significance, the alpha, or the type1 error rate cannot be greater the .05, otherwise the net to capture data is too big\n",
    "- df = n-(number of samples +1)\n",
    "- in this case, sample is only ^GSPC, so df = 60-2 =58"
   ]
  },
  {
   "cell_type": "markdown",
   "id": "374068b8",
   "metadata": {},
   "source": [
    "R sqaure and adjusted R square\n",
    "- also called the coefficient of determination\n",
    "- how much variance of the dependent variable is explained by the model, or the independent variable\n",
    "- =SSR/SST, so the bigger, the more explanatory power the regression model, or the line has"
   ]
  },
  {
   "cell_type": "markdown",
   "id": "3479fe28",
   "metadata": {},
   "source": [
    "F- Statistics\n",
    "(pending to confirm whether applicable to this case since it has only one sample)\n",
    "- F is for comparing 2 sample variance, not comparing with hypothesized variance\n",
    "- so in this case, it is comparing with hypothesized variance, F will be the same as t\n",
    "- F=large sample varinace/smaller sample variance\n",
    "- F-distribution is always upper tail test only\n",
    "- need to based on the df of two samples to find the F-crit from F-dist-table\n",
    "- the null hypo is sample a variance = sample b variance\n",
    "- the Ha is sample a variance is > sample b variance, given sample a has a larger variance\n",
    "- if F-test > F-crit, reject null, and conclude sample a and sample b has different variance\n",
    "- In this case, with df = 58, F-crit = 1.5, our F-test is 357, much greater. Also can refer to the P-value of F-stats, also extremely small\n",
    "- so reject the null, support that they have different vairance"
   ]
  },
  {
   "cell_type": "markdown",
   "id": "07550268",
   "metadata": {},
   "source": [
    "AIC, BIC"
   ]
  },
  {
   "cell_type": "markdown",
   "id": "671ae5fb",
   "metadata": {},
   "source": [
    "Coef\n",
    "- std err is the variance of our estimation, which means the estimated value is just a mean value, it also has a distribution\n",
    "- how to cal it? sb1 = sqrt(MSE)/(sum(x-mean)^2)\n",
    "    - x is the obeserved value, mean is the predicted value of the line, or really the mean only? pending to confirm"
   ]
  },
  {
   "cell_type": "markdown",
   "id": "50c95573",
   "metadata": {},
   "source": [
    "t-Statistics\n",
    "- Null Hypo is the slope of the regression line is 0, so no significant linear relationship between the two varaibles\n",
    "- |t| means the t critical value, if bigger than it, reject the null hypo\n",
    "- how to interpret?\n",
    "    - first, the slope of regression line is b1, which is the the independent variable's coefficient. In this case, the ^GSPC's\n",
    "    - then, is it an point estimator\n",
    "    - we are finding whether the interval of slope values contain 0, if contain it might has no significant linear relationship\n",
    "    - for this case, No, it doesnt contain 0, can we say it has significant linear relationship at this stage?\n",
    "    - No, need to see wehether t-value > t-critical value or not? so we can reject the null that the slope = 0. How to cal the t-value, and t-critical value?\n",
    "    - for t = b1/sb1, \n",
    "    - sb1 = sqrt(MSE)/(sum(x-mean^2)\n",
    "    - for t-crit, check t-table, refer to the degree of freedom, 58 df in t, 2-tails test is around 2\n",
    "    - so our test stats t = 18, > t-critical 2, combining two observation, we can statistically reject the null\n",
    "    - and support that there is a significant linear relationship between 2 variables\n",
    "- Pr>|t| is the p-value for this hypothesis test. A low p-value means, that you can reject the null-hypothesis and accept the alternative hypothesis (coef!=0).\n",
    "- bigger df, smaller critical value, since more samples, the estimation will be more precise, which means the distribution of value(the net) will be narrower"
   ]
  },
  {
   "cell_type": "markdown",
   "id": "5fa4cc83",
   "metadata": {},
   "source": [
    "Confidence Interval\n",
    "- point estimator for the slope +- margin of error\n",
    "- margin of error = (t value)*(std of the slope)\n",
    "- meaning: 95% confident that the interval contains the true slope of the regression line.\n",
    "    - true slope here means the true value of b1\n",
    "- observation:\n",
    "    - wider at head and tail since further deviation from the mean, the wider, the more possible values\n",
    "    - the the prediction of y is most accurate at mean x position\n",
    "    - why? refer to the equation, part of it is (x-mean)^2. When x is deviate from the mean, it is bigger, the margin of error increases"
   ]
  },
  {
   "cell_type": "markdown",
   "id": "cf3d67df",
   "metadata": {},
   "source": [
    "Skew and Kurtosis\n",
    "- for normal distribution, 0 skew, 3 kurtosis\n",
    "- for this case, right skewed, a higher kurtosis\n",
    "- kurtosis >3 means, comparing with normal dist, the distribution of the predicted y value by the regression line has more possible values at the head and tail, rather than around the mean(the line). Which means higher kurtosis leads to fatter tail of the distribution\n",
    "- A skewness value greater than 1 or less than -1 indicates a highly skewed distribution. A value between 0.5 and 1 or -0.5 and -1 is moderately skewed. A value between -0.5 and 0.5 indicates that the distribution is fairly symmetrical.\n",
    "- for this case, skewness is 0.6, comparing with normal dist, more observed values is higher than the predicted value, given the regression line is already the best fit line we can find"
   ]
  }
 ],
 "metadata": {
  "kernelspec": {
   "display_name": "Python 3 (ipykernel)",
   "language": "python",
   "name": "python3"
  },
  "language_info": {
   "codemirror_mode": {
    "name": "ipython",
    "version": 3
   },
   "file_extension": ".py",
   "mimetype": "text/x-python",
   "name": "python",
   "nbconvert_exporter": "python",
   "pygments_lexer": "ipython3",
   "version": "3.9.7"
  }
 },
 "nbformat": 4,
 "nbformat_minor": 5
}
